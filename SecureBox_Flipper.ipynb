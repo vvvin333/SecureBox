{
  "nbformat": 4,
  "nbformat_minor": 0,
  "metadata": {
    "colab": {
      "name": "SecureBox_Flipper.ipynb",
      "provenance": [],
      "collapsed_sections": [],
      "authorship_tag": "ABX9TyM31G3eowZauYjR+y29b2WK",
      "include_colab_link": true
    },
    "kernelspec": {
      "name": "python3",
      "display_name": "Python 3"
    }
  },
  "cells": [
    {
      "cell_type": "markdown",
      "metadata": {
        "id": "view-in-github",
        "colab_type": "text"
      },
      "source": [
        "<a href=\"https://colab.research.google.com/github/vvvin333/SecureBox/blob/main/SecureBox_Flipper.ipynb\" target=\"_parent\"><img src=\"https://colab.research.google.com/assets/colab-badge.svg\" alt=\"Open In Colab\"/></a>"
      ]
    },
    {
      "cell_type": "code",
      "metadata": {
        "id": "ns3scOp2SI0Q"
      },
      "source": [
        "import matplotlib.pyplot as plt\n",
        "import numpy as np\n",
        "import random"
      ],
      "execution_count": null,
      "outputs": []
    },
    {
      "cell_type": "code",
      "metadata": {
        "id": "WKhLvTDwB8Lq"
      },
      "source": [
        "def isLocked(matrix):\n",
        "  return np.any(matrix) # if any element==True"
      ],
      "execution_count": null,
      "outputs": []
    },
    {
      "cell_type": "code",
      "metadata": {
        "id": "ezv2dsqFTd2i"
      },
      "source": [
        "def flip(x, y, matrix):\n",
        "  matrix[x] = np.logical_not(matrix[x])\n",
        "  matrix[:, y] = np.logical_not(matrix[:, y])\n",
        "  matrix[x, y] = not matrix[x, y]"
      ],
      "execution_count": null,
      "outputs": []
    },
    {
      "cell_type": "code",
      "metadata": {
        "id": "K5dmrwl2T6Cp"
      },
      "source": [
        "def generate_steps(num_steps, matrix):\n",
        "  steps = []\n",
        "  for i in range(num_steps):\n",
        "    x = random.randrange(x_size)\n",
        "    y = random.randrange(y_size)\n",
        "    if (x,y) not in steps:\n",
        "      steps.append((x,y))\n",
        "      flip(x, y, matrix)\n",
        "  return steps\n",
        "\n",
        "def show_steps(steps, matrix, show=False):\n",
        "  print(steps)\n",
        "  print(np.asarray(matrix, dtype=int))\n",
        "  if show:\n",
        "    plt.matshow(matrix)\n",
        "    plt.colorbar()\n",
        "    plt.show()"
      ],
      "execution_count": null,
      "outputs": []
    },
    {
      "cell_type": "code",
      "metadata": {
        "id": "Kj-u7cJkYhoa"
      },
      "source": [
        "def execute_steps(steps, matrix):\n",
        "  for x, y in steps:\n",
        "    flip(x, y, matrix)"
      ],
      "execution_count": null,
      "outputs": []
    },
    {
      "cell_type": "markdown",
      "metadata": {
        "id": "vCxmQEFKnH5q"
      },
      "source": [
        "Default \"opened\" matrix"
      ]
    },
    {
      "cell_type": "code",
      "metadata": {
        "id": "8Qe3hppZSRDQ"
      },
      "source": [
        "x_size, y_size = 3, 3\n",
        "matrix = np.zeros((x_size, y_size), dtype=bool)"
      ],
      "execution_count": null,
      "outputs": []
    },
    {
      "cell_type": "markdown",
      "metadata": {
        "id": "91iHobojnl1J"
      },
      "source": [
        "Randomly generate flip steps."
      ]
    },
    {
      "cell_type": "code",
      "metadata": {
        "colab": {
          "base_uri": "https://localhost:8080/"
        },
        "id": "AiO1El3yS8B7",
        "outputId": "9ad92b32-315e-427d-a5dc-9dd4888c31f0"
      },
      "source": [
        "steps = generate_steps(10, matrix)\n",
        "show_steps(steps, matrix)"
      ],
      "execution_count": null,
      "outputs": [
        {
          "output_type": "stream",
          "text": [
            "[(0, 1), (2, 2), (1, 0), (3, 0), (3, 1), (2, 1)]\n",
            "[[1 1 0]\n",
            " [0 0 0]\n",
            " [0 0 0]\n",
            " [1 0 1]]\n"
          ],
          "name": "stdout"
        }
      ]
    },
    {
      "cell_type": "code",
      "metadata": {
        "colab": {
          "base_uri": "https://localhost:8080/",
          "height": 332
        },
        "id": "muMD41m-i5_Q",
        "outputId": "1c189043-0aa8-4326-aa7b-0e6733d9f705"
      },
      "source": [
        "execute_steps(steps, matrix)\n",
        "show_steps(steps, matrix, show=True)"
      ],
      "execution_count": null,
      "outputs": [
        {
          "output_type": "stream",
          "text": [
            "[(0, 0), (0, 1), (0, 2), (1, 0)]\n",
            "[[0 1 1]\n",
            " [0 0 0]\n",
            " [0 1 1]]\n"
          ],
          "name": "stdout"
        },
        {
          "output_type": "display_data",
          "data": {
            "image/png": "[encoded data removed]",
            "text/plain": [
              "<Figure size 288x288 with 2 Axes>"
            ]
          },
          "metadata": {
            "tags": [],
            "needs_background": "light"
          }
        }
      ]
    },
    {
      "cell_type": "markdown",
      "metadata": {
        "id": "Vr8hc-13nwTt"
      },
      "source": [
        "One flip sample."
      ]
    },
    {
      "cell_type": "code",
      "metadata": {
        "id": "29DRSweaTQeZ"
      },
      "source": [
        "x, y = (4, 3)\n",
        "flip(x, y, matrix)\n",
        "print(np.asarray(matrix, dtype=int))\n",
        "plt.matshow(matrix)\n",
        "plt.colorbar()\n",
        "plt.show()"
      ],
      "execution_count": null,
      "outputs": []
    },
    {
      "cell_type": "code",
      "metadata": {
        "id": "OETj-FMSwDQ9"
      },
      "source": [
        "def isKthBitSet(n, k): \n",
        "    if n & (1 << k): \n",
        "        return True \n",
        "    else: \n",
        "        return False "
      ],
      "execution_count": null,
      "outputs": []
    },
    {
      "cell_type": "code",
      "metadata": {
        "id": "G__aMohQropD"
      },
      "source": [
        "def openBox(matrix):\n",
        "  for sample in range(1, 2**matrix.size):\n",
        "    sample_steps = []\n",
        "    for bit in range(matrix.size):\n",
        "      if bit>np.log2(sample):\n",
        "        break\n",
        "      number = bit if isKthBitSet(sample, bit) else -1\n",
        "      if number<0:\n",
        "        continue\n",
        "      x = number // y_size\n",
        "      y = number % y_size\n",
        "      sample_steps.append((x, y))\n",
        "    \n",
        "    # check\n",
        "    m_copy = np.copy(matrix) \n",
        "    execute_steps(sample_steps, m_copy)\n",
        "    if not isLocked(m_copy):\n",
        "      print(sample_steps)\n",
        "      break\n",
        "\n",
        "  return sample_steps"
      ],
      "execution_count": null,
      "outputs": []
    },
    {
      "cell_type": "markdown",
      "metadata": {
        "id": "9mcW6RIznQQ3"
      },
      "source": [
        "To open/lock Box one can execute the next ceil twice."
      ]
    },
    {
      "cell_type": "code",
      "metadata": {
        "colab": {
          "base_uri": "https://localhost:8080/",
          "height": 423
        },
        "id": "sRpWNTDTtfj5",
        "outputId": "21e21e5f-6e5b-43ae-911c-52b3142c0856"
      },
      "source": [
        "sample_steps = openBox(matrix)\n",
        "execute_steps(sample_steps, matrix)\n",
        "show_steps(sample_steps, matrix, show=True)"
      ],
      "execution_count": null,
      "outputs": [
        {
          "output_type": "stream",
          "text": [
            "[(0, 0), (0, 2), (1, 0), (2, 0), (3, 0), (3, 1)]\n",
            "[[1 1 0]\n",
            " [0 0 0]\n",
            " [0 0 0]\n",
            " [1 0 1]]\n"
          ],
          "name": "stdout"
        },
        {
          "output_type": "display_data",
          "data": {
            "image/png": "[encoded data removed]",
            "text/plain": [
              "<Figure size 288x384 with 2 Axes>"
            ]
          },
          "metadata": {
            "tags": [],
            "needs_background": "light"
          }
        }
      ]
    },
    {
      "cell_type": "code",
      "metadata": {
        "colab": {
          "base_uri": "https://localhost:8080/"
        },
        "id": "RLdHvpGdF8LN",
        "outputId": "fea24b26-a6d6-4b6a-d4b2-42d18abe17df"
      },
      "source": [
        "steps==sample_steps"
      ],
      "execution_count": null,
      "outputs": [
        {
          "output_type": "execute_result",
          "data": {
            "text/plain": [
              "False"
            ]
          },
          "metadata": {
            "tags": []
          },
          "execution_count": 99
        }
      ]
    }
  ]
}